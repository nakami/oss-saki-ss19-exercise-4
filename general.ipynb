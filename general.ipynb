{
 "cells": [
  {
   "cell_type": "markdown",
   "metadata": {},
   "source": [
    "# Framework Investigation\n",
    "\n",
    "# Enums\n",
    "\n"
   ]
  },
  {
   "cell_type": "code",
   "execution_count": 4,
   "metadata": {},
   "outputs": [],
   "source": [
    "from enum import Enum\n",
    "\n",
    "# framework\\company.py\n",
    "class Company(Enum):\n",
    "    A = \"a\"\n",
    "    B = \"b\"\n",
    "\n",
    "# framework\\order.py\n",
    "class OrderType(Enum):\n",
    "    BUY = 1\n",
    "    SELL = 2\n",
    "\n",
    "# framework\\period.py\n",
    "class Period(Enum):\n",
    "    TRAINING = \"1962-2011\"\n",
    "    TESTING = \"2012-2015\"\n",
    "    EVALUATION = \"2016-2017\"\n",
    "\n",
    "# framework\\vote.py\n",
    "class Vote(Enum):\n",
    "    BUY = \"buy\"\n",
    "    HOLD = \"hold\"\n",
    "    SELL = \"sell\""
   ]
  },
  {
   "cell_type": "markdown",
   "metadata": {},
   "source": [
    "## Experts\n",
    "\n",
    "- experts read from `experts\\obscure_expert_data\\obscure.p` which is a dictionary\n",
    "- the dictionary contains two keys: `Company.A` and `Company.B`\n",
    "- each dictionary key contains 14060 entries which consist of a `datetime.date`\n",
    "    - start: `datetime.date(1962, 1, 2)`\n",
    "    - end: `datetime.date(2017, 11, 6)`\n",
    "    - holds either `Vote.BUY`, `Vote.HOLD` or `Vote.SELL`\n",
    "- in other words\n",
    "    - given a stock name (`Company.A` or `Company.B`) and a date (`datetime.date`) one of three action recommendations is returned (`Vote.BUY`, `Vote.HOLD` or `Vote.SELL`)"
   ]
  },
  {
   "cell_type": "code",
   "execution_count": 1,
   "metadata": {},
   "outputs": [
    {
     "name": "stdout",
     "output_type": "stream",
     "text": [
      "<experts.obscure_expert.ObscureExpert object at 0x000001E8FC952C50>\n",
      "<class 'dict'>\n",
      "keys_in_dict:\t\t[<Company.A: 'a'>, <Company.B: 'b'>]\n",
      "amount_days_a:\t\t14060\n",
      "amount_days_b:\t\t14060\n",
      "first item in A:\t(datetime.date(1962, 1, 2), <Vote.BUY: 'buy'>)\n",
      "last item in A:\t\t(datetime.date(2017, 11, 6), <Vote.HOLD: 'hold'>)\n"
     ]
    }
   ],
   "source": [
    "from framework.company import Company\n",
    "from experts.obscure_expert import ObscureExpert\n",
    "\n",
    "Company.A\n",
    "my_obscure_expert = ObscureExpert(Company.A)\n",
    "\n",
    "print(my_obscure_expert)\n",
    "#print(dir(my_obscure_expert))\n",
    "print(type(my_obscure_expert._ObscureExpert__answers))\n",
    "\n",
    "keys_in_dict = list(my_obscure_expert._ObscureExpert__answers.keys())\n",
    "\n",
    "print(f'keys_in_dict:\\t\\t{keys_in_dict}')\n",
    "\n",
    "amount_days_a = len(my_obscure_expert._ObscureExpert__answers[Company.A])\n",
    "amount_days_b = len(my_obscure_expert._ObscureExpert__answers[Company.B])\n",
    "\n",
    "print(f'amount_days_a:\\t\\t{amount_days_a}')\n",
    "print(f'amount_days_b:\\t\\t{amount_days_b}')\n",
    "\n",
    "items_a = list(my_obscure_expert._ObscureExpert__answers[Company.A].items())\n",
    "\n",
    "print(f'first item in A:\\t{items_a[0]}')\n",
    "print(f'last item in A:\\t\\t{items_a[-1]}')"
   ]
  },
  {
   "cell_type": "code",
   "execution_count": null,
   "metadata": {},
   "outputs": [],
   "source": []
  }
 ],
 "metadata": {
  "kernelspec": {
   "display_name": "Python 3",
   "language": "python",
   "name": "python3"
  },
  "language_info": {
   "codemirror_mode": {
    "name": "ipython",
    "version": 3
   },
   "file_extension": ".py",
   "mimetype": "text/x-python",
   "name": "python",
   "nbconvert_exporter": "python",
   "pygments_lexer": "ipython3",
   "version": "3.6.8"
  }
 },
 "nbformat": 4,
 "nbformat_minor": 2
}
